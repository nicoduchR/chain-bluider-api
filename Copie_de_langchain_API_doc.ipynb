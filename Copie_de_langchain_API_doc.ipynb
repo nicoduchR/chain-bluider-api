{
  "cells": [
    {
      "cell_type": "markdown",
      "metadata": {
        "id": "view-in-github",
        "colab_type": "text"
      },
      "source": [
        "<a href=\"https://colab.research.google.com/github/nicoduchR/chain-bluider-api/blob/master/Copie_de_langchain_API_doc.ipynb\" target=\"_parent\"><img src=\"https://colab.research.google.com/assets/colab-badge.svg\" alt=\"Open In Colab\"/></a>"
      ]
    },
    {
      "cell_type": "raw",
      "id": "e254cf03-49fc-4051-a4df-3a8e4e7d2688",
      "metadata": {
        "id": "e254cf03-49fc-4051-a4df-3a8e4e7d2688"
      },
      "source": [
        "---\n",
        "title: Web scraping\n",
        "sidebar_class_name: hidden\n",
        "---"
      ]
    },
    {
      "cell_type": "markdown",
      "id": "6605e7f7",
      "metadata": {
        "id": "6605e7f7"
      },
      "source": [
        "[![Open In Colab](https://colab.research.google.com/assets/colab-badge.svg)](https://colab.research.google.com/github/langchain-ai/langchain/blob/v0.1/docs/docs/use_cases/web_scraping.ipynb)\n",
        "\n",
        "## Use case\n",
        "\n",
        "[Web research](https://blog.langchain.dev/automating-web-research/) is one of the killer LLM applications:\n",
        "\n",
        "* Users have [highlighted it](https://twitter.com/GregKamradt/status/1679913813297225729?s=20) as one of his top desired AI tools.\n",
        "* OSS repos like [gpt-researcher](https://github.com/assafelovic/gpt-researcher) are growing in popularity.\n",
        "\n",
        "![Image description](https://github.com/langchain-ai/langchain/blob/v0.1/docs/static/img/web_scraping.png?raw=1)\n",
        "\n",
        "## Overview\n",
        "\n",
        "Gathering content from the web has a few components:\n",
        "\n",
        "* `Search`: Query to url (e.g., using `GoogleSearchAPIWrapper`).\n",
        "* `Loading`: Url to HTML  (e.g., using `AsyncHtmlLoader`, `AsyncChromiumLoader`, etc).\n",
        "* `Transforming`: HTML to formatted text (e.g., using `HTML2Text` or `Beautiful Soup`).\n",
        "\n",
        "## Quickstart"
      ]
    },
    {
      "cell_type": "code",
      "execution_count": null,
      "id": "1803c182",
      "metadata": {
        "colab": {
          "base_uri": "https://localhost:8080/"
        },
        "id": "1803c182",
        "outputId": "cb875309-5ce8-43a5-f1fd-38440016bcab"
      },
      "outputs": [
        {
          "output_type": "stream",
          "name": "stdout",
          "text": [
            "Playwright Host validation warning: \n",
            "╔══════════════════════════════════════════════════════╗\n",
            "║ Host system is missing dependencies to run browsers. ║\n",
            "║ Missing libraries:                                   ║\n",
            "║     libwoff2dec.so.1.0.2                             ║\n",
            "║     libgstgl-1.0.so.0                                ║\n",
            "║     libgstcodecparsers-1.0.so.0                      ║\n",
            "║     libharfbuzz-icu.so.0                             ║\n",
            "║     libenchant-2.so.2                                ║\n",
            "║     libsecret-1.so.0                                 ║\n",
            "║     libhyphen.so.0                                   ║\n",
            "║     libmanette-0.2.so.0                              ║\n",
            "╚══════════════════════════════════════════════════════╝\n",
            "    at validateDependenciesLinux (/usr/local/lib/python3.10/dist-packages/playwright/driver/package/lib/server/registry/dependencies.js:216:9)\n",
            "\u001b[90m    at process.processTicksAndRejections (node:internal/process/task_queues:95:5)\u001b[39m\n",
            "    at async Registry._validateHostRequirements (/usr/local/lib/python3.10/dist-packages/playwright/driver/package/lib/server/registry/index.js:587:43)\n",
            "    at async Registry._validateHostRequirementsForExecutableIfNeeded (/usr/local/lib/python3.10/dist-packages/playwright/driver/package/lib/server/registry/index.js:685:7)\n",
            "    at async Registry.validateHostRequirementsForExecutablesIfNeeded (/usr/local/lib/python3.10/dist-packages/playwright/driver/package/lib/server/registry/index.js:674:43)\n",
            "    at async t.<anonymous> (/usr/local/lib/python3.10/dist-packages/playwright/driver/package/lib/cli/program.js:119:7)\n"
          ]
        }
      ],
      "source": [
        "!pip install -q langchain-openai langchain playwright beautifulsoup4\n",
        "!playwright install\n",
        "\n",
        "# Set env var OPENAI_API_KEY or load from a .env file:\n",
        "# import dotenv\n",
        "# dotenv.load_dotenv()"
      ]
    },
    {
      "cell_type": "markdown",
      "id": "50741083",
      "metadata": {
        "id": "50741083"
      },
      "source": [
        "Scraping HTML content using a headless instance of Chromium.\n",
        "\n",
        "* The async nature of the scraping process is handled using Python's asyncio library.\n",
        "* The actual interaction with the web pages is handled by Playwright."
      ]
    },
    {
      "cell_type": "code",
      "source": [
        "!pip install nest-asyncio\n",
        "import nest_asyncio\n",
        "\n",
        "nest_asyncio.apply()"
      ],
      "metadata": {
        "colab": {
          "base_uri": "https://localhost:8080/"
        },
        "id": "hSZc-MGVh02w",
        "outputId": "2fec1430-1c5c-4107-e244-ee8204e84837"
      },
      "id": "hSZc-MGVh02w",
      "execution_count": null,
      "outputs": [
        {
          "output_type": "stream",
          "name": "stdout",
          "text": [
            "Requirement already satisfied: nest-asyncio in /usr/local/lib/python3.10/dist-packages (1.6.0)\n"
          ]
        }
      ]
    },
    {
      "cell_type": "code",
      "execution_count": null,
      "id": "cd457cb1",
      "metadata": {
        "id": "cd457cb1"
      },
      "outputs": [],
      "source": [
        "from langchain_community.document_loaders import AsyncChromiumLoader\n",
        "from langchain_community.document_transformers import BeautifulSoupTransformer\n",
        "\n",
        "# Load HTML\n",
        "loader = AsyncChromiumLoader([\"https://openweathermap.org/current\"])\n",
        "html = loader.load()"
      ]
    },
    {
      "cell_type": "markdown",
      "id": "2a879806",
      "metadata": {
        "id": "2a879806"
      },
      "source": [
        "Scrape text content tags such as `<p>, <li>, <div>, and <a>` tags from the HTML content:\n",
        "\n",
        "* `<p>`: The paragraph tag. It defines a paragraph in HTML and is used to group together related sentences and/or phrases.\n",
        "\n",
        "* `<li>`: The list item tag. It is used within ordered (`<ol>`) and unordered (`<ul>`) lists to define individual items within the list.\n",
        "\n",
        "* `<div>`: The division tag. It is a block-level element used to group other inline or block-level elements.\n",
        "\n",
        "* `<a>`: The anchor tag. It is used to define hyperlinks.\n",
        "\n",
        "* `<span>`:  an inline container used to mark up a part of a text, or a part of a document.\n",
        "\n",
        "For many news websites (e.g., WSJ, CNN), headlines and summaries are all in `<span>` tags."
      ]
    },
    {
      "cell_type": "code",
      "execution_count": null,
      "id": "141f206b",
      "metadata": {
        "id": "141f206b"
      },
      "outputs": [],
      "source": [
        "# Transform\n",
        "bs_transformer = BeautifulSoupTransformer()\n",
        "docs_transformed = bs_transformer.transform_documents(html, tags_to_extract=[\"span\", \"code\", \"p\"])"
      ]
    },
    {
      "cell_type": "code",
      "execution_count": null,
      "id": "73ddb234",
      "metadata": {
        "colab": {
          "base_uri": "https://localhost:8080/",
          "height": 70
        },
        "id": "73ddb234",
        "outputId": "ae521dc9-c5a9-4069-8a78-5f49acfc1249"
      },
      "outputs": [
        {
          "output_type": "execute_result",
          "data": {
            "text/plain": [
              "'OpenWeather OpenWeather Ltd. GET - on Google Play × Access current weather data for any location on Earth! We collect and process weather data from different sources such as global and local weather models, satellites, radars and a vast network of weather stations. Data is available in JSON, XML, or HTML format. API call https://api.openweathermap.org/data/2.5/weather?lat= {lat} &lon= {lon} &appid= {API key} lat required lon required appid required mode optional xml html mode units optional stan'"
            ],
            "application/vnd.google.colaboratory.intrinsic+json": {
              "type": "string"
            }
          },
          "metadata": {},
          "execution_count": 5
        }
      ],
      "source": [
        "# Result\n",
        "docs_transformed[0].page_content[0:500]"
      ]
    },
    {
      "cell_type": "markdown",
      "source": [
        "## Découpage du doc en chunks"
      ],
      "metadata": {
        "id": "H6AA2WWWj0oB"
      },
      "id": "H6AA2WWWj0oB"
    },
    {
      "cell_type": "code",
      "source": [
        "!pip install --quiet langchain_experimental langchain_openai langchain_chroma"
      ],
      "metadata": {
        "collapsed": true,
        "id": "vWY8wLlLkvtk"
      },
      "id": "vWY8wLlLkvtk",
      "execution_count": null,
      "outputs": []
    },
    {
      "cell_type": "code",
      "source": [
        "from langchain_experimental.text_splitter import SemanticChunker\n",
        "from langchain_openai.embeddings import OpenAIEmbeddings\n",
        "from api_key import OPENAI_KEY\n",
        "from langchain_text_splitters import CharacterTextSplitter\n"
      ],
      "metadata": {
        "id": "D-Kia_cnj4sc"
      },
      "id": "D-Kia_cnj4sc",
      "execution_count": null,
      "outputs": []
    },
    {
      "cell_type": "code",
      "source": [
        "#text_splitter = SemanticChunker(\n",
        "#    OpenAIEmbeddings(openai_api_key=OPENAI_KEY),\n",
        "#    breakpoint_threshold_type=\"percentile\"\n",
        "#)\n",
        "text_splitter = CharacterTextSplitter(\n",
        "    separator=\"\",\n",
        "    chunk_size=1000,\n",
        "    chunk_overlap=200,\n",
        "    is_separator_regex=False,\n",
        ")"
      ],
      "metadata": {
        "id": "comgP_L8k1df"
      },
      "id": "comgP_L8k1df",
      "execution_count": null,
      "outputs": []
    },
    {
      "cell_type": "code",
      "source": [
        "len(docs_transformed[0].page_content)"
      ],
      "metadata": {
        "id": "zKTYH_ckt9XU",
        "outputId": "7c8ee31b-8f14-4ca5-b2bb-67842fe5bbee",
        "colab": {
          "base_uri": "https://localhost:8080/"
        }
      },
      "id": "zKTYH_ckt9XU",
      "execution_count": null,
      "outputs": [
        {
          "output_type": "execute_result",
          "data": {
            "text/plain": [
              "22070"
            ]
          },
          "metadata": {},
          "execution_count": 9
        }
      ]
    },
    {
      "cell_type": "code",
      "source": [
        "docs_chunk = text_splitter.create_documents([docs_transformed[0].page_content])\n",
        "print(docs_chunk[0].page_content)"
      ],
      "metadata": {
        "colab": {
          "base_uri": "https://localhost:8080/"
        },
        "id": "s-TckMusmSQu",
        "outputId": "0d0bf99f-a868-47fa-fe23-3c21f7b9aad1"
      },
      "id": "s-TckMusmSQu",
      "execution_count": null,
      "outputs": [
        {
          "output_type": "stream",
          "name": "stdout",
          "text": [
            "OpenWeather OpenWeather Ltd. GET - on Google Play × Access current weather data for any location on Earth! We collect and process weather data from different sources such as global and local weather models, satellites, radars and a vast network of weather stations. Data is available in JSON, XML, or HTML format. API call https://api.openweathermap.org/data/2.5/weather?lat= {lat} &lon= {lon} &appid= {API key} lat required lon required appid required mode optional xml html mode units optional standard metric imperial units standard lang optional Please use Geocoder API if you need automatic convert city names and zip-codes to geo coordinates and the other way around. Please note that built-in geocoder has been deprecated. Although it is still available for use, bug fixing and updates are no longer available for this functionality. Examples of API calls https://api.openweathermap.org/data/2.5/weather?lat=44.34&lon=10.99&appid= {API key} (https://home.openweathermap.org/api_keys)  { \"coord\n"
          ]
        }
      ]
    },
    {
      "cell_type": "code",
      "source": [
        "docs_chunk"
      ],
      "metadata": {
        "id": "ENiU8K6t1wHC",
        "outputId": "febcfcd7-57ba-44ec-bfe3-e127fdbb5545",
        "colab": {
          "base_uri": "https://localhost:8080/"
        }
      },
      "id": "ENiU8K6t1wHC",
      "execution_count": null,
      "outputs": [
        {
          "output_type": "execute_result",
          "data": {
            "text/plain": [
              "[Document(page_content='OpenWeather OpenWeather Ltd. GET - on Google Play × Access current weather data for any location on Earth! We collect and process weather data from different sources such as global and local weather models, satellites, radars and a vast network of weather stations. Data is available in JSON, XML, or HTML format. API call https://api.openweathermap.org/data/2.5/weather?lat= {lat} &lon= {lon} &appid= {API key} lat required lon required appid required mode optional xml html mode units optional standard metric imperial units standard lang optional Please use Geocoder API if you need automatic convert city names and zip-codes to geo coordinates and the other way around. Please note that built-in geocoder has been deprecated. Although it is still available for use, bug fixing and updates are no longer available for this functionality. Examples of API calls https://api.openweathermap.org/data/2.5/weather?lat=44.34&lon=10.99&appid= {API key} (https://home.openweathermap.org/api_keys)  { \"coord'),\n",
              " Document(page_content='longer available for this functionality. Examples of API calls https://api.openweathermap.org/data/2.5/weather?lat=44.34&lon=10.99&appid= {API key} (https://home.openweathermap.org/api_keys)  { \"coord\" : { \"lon\" : 10.99 , \"lat\" : 44.34 }, \"weather\" : [ { \"id\" : 501 , \"main\" : \"Rain\" , \"description\" : \"moderate rain\" , \"icon\" : \"10d\" } ], \"base\" : \"stations\" , \"main\" : { \"temp\" : 298.48 , \"feels_like\" : 298.74 , \"temp_min\" : 297.56 , \"temp_max\" : 300.05 , \"pressure\" : 1015 , \"humidity\" : 64 , \"sea_level\" : 1015 , \"grnd_level\" : 933 }, \"visibility\" : 10000 , \"wind\" : { \"speed\" : 0.62 , \"deg\" : 349 , \"gust\" : 1.18 }, \"rain\" : { \"1h\" : 3.16 }, \"clouds\" : { \"all\" : 100 }, \"dt\" : 1661870592 , \"sys\" : { \"type\" : 2 , \"id\" : 2075663 , \"country\" : \"IT\" , \"sunrise\" : 1661834187 , \"sunset\" : 1661882248 }, \"timezone\" : 7200 , \"id\" : 3163858 , \"name\" : \"Zocca\" , \"cod\" : 200 } JSON format API response example { \"coord\" : { \"lon\" : 10.99 , \"lat\" : 44.34 }, \"weather\" : [ { \"id\" : 501 , \"main\" : \"Rain\"'),\n",
              " Document(page_content='8 }, \"timezone\" : 7200 , \"id\" : 3163858 , \"name\" : \"Zocca\" , \"cod\" : 200 } JSON format API response example { \"coord\" : { \"lon\" : 10.99 , \"lat\" : 44.34 }, \"weather\" : [ { \"id\" : 501 , \"main\" : \"Rain\" , \"description\" : \"moderate rain\" , \"icon\" : \"10d\" } ], \"base\" : \"stations\" , \"main\" : { \"temp\" : 298.48 , \"feels_like\" : 298.74 , \"temp_min\" : 297.56 , \"temp_max\" : 300.05 , \"pressure\" : 1015 , \"humidity\" : 64 , \"sea_level\" : 1015 , \"grnd_level\" : 933 }, \"visibility\" : 10000 , \"wind\" : { \"speed\" : 0.62 , \"deg\" : 349 , \"gust\" : 1.18 }, \"rain\" : { \"1h\" : 3.16 }, \"clouds\" : { \"all\" : 100 }, \"dt\" : 1661870592 , \"sys\" : { \"type\" : 2 , \"id\" : 2075663 , \"country\" : \"IT\" , \"sunrise\" : 1661834187 , \"sunset\" : 1661882248 }, \"timezone\" : 7200 , \"id\" : 3163858 , \"name\" : \"Zocca\" , \"cod\" : 200 } JSON format API response fields coord coord.lon coord.lat weather weather.id weather.main weather.description weather.icon base main main.temp main.feels_like main.pressure main.humidity main.temp_min main.tem'),\n",
              " Document(page_content='at API response fields coord coord.lon coord.lat weather weather.id weather.main weather.description weather.icon base main main.temp main.feels_like main.pressure main.humidity main.temp_min main.temp_max main.sea_level main.grnd_level visibility wind wind.speed wind.deg wind.gust clouds clouds.all rain rain.1h (where available) rain.3h (where available) snow snow.1h (where available) snow.3h (where available) dt sys sys.type sys.id sys.message sys.country sys.sunrise sys.sunset timezone id City ID. Please note that built-in geocoder functionality has been deprecated. Learn more here (#builtin) name City name. Please note that built-in geocoder functionality has been deprecated. Learn more here (#builtin) cod XML format API response example  < current >  < city  id = \"3163858\"  name = \"Zocca\" >  < coord  lon = \"10.99\"  lat = \"44.34\" />  < country > IT </ country >  < timezone > 7200 </ timezone >  < sun  rise = \"2022-08-30T04:36:27\"  set = \"2022-08-30T17:57:28\" />  </ city >  < temper'),\n",
              " Document(page_content='cca\" >  < coord  lon = \"10.99\"  lat = \"44.34\" />  < country > IT </ country >  < timezone > 7200 </ timezone >  < sun  rise = \"2022-08-30T04:36:27\"  set = \"2022-08-30T17:57:28\" />  </ city >  < temperature  value = \"298.48\"  min = \"297.56\"  max = \"300.05\"  unit = \"kelvin\" />  < feels_like  value = \"298.74\"  unit = \"kelvin\" />  < humidity  value = \"64\"  unit = \"%\" />  < pressure  value = \"1015\"  unit = \"hPa\" />  < wind >  < speed  value = \"0.62\"  unit = \"m/s\"  name = \"Calm\" />  < gusts  value = \"1.18\" />  < direction  value = \"349\"  code = \"N\"  name = \"North\" />  </ wind >  < clouds  value = \"100\"  name = \"overcast clouds\" />  < visibility  value = \"10000\" />  < precipitation  value = \"3.37\"  mode = \"rain\"  unit = \"1h\" />  < weather  number = \"501\"  value = \"moderate rain\"  icon = \"10d\" />  < lastupdate  value = \"2022-08-30T14:45:57\" />  </ current >  XML format API response fields city city.id City ID. Please note that built-in geocoder functionality has been deprecated. Learn more her'),\n",
              " Document(page_content='< lastupdate  value = \"2022-08-30T14:45:57\" />  </ current >  XML format API response fields city city.id City ID. Please note that built-in geocoder functionality has been deprecated. Learn more here (#builtin) city.name City name. Please note that built-in geocoder functionality has been deprecated. Learn more here (#builtin) city.coord city.coord.lon city.coord.lat city.country Country code (GB, JP etc.). Please note that built-in geocoder functionality has been deprecated. Learn more here (#builtin) timezone city.sun city.sun.rise city.sun.set temperature temperature.value temperature.min temperature.max temperature.unit feels_like feels_like.value feels_like.unit humidity humidity.value humidity.unit pressure pressure.value pressure.unit wind wind.speed wind.speed.value wind.speed.unit wind.speed.name wind.direction wind.direction.value wind.direction.code wind.direction.name clouds clouds.value clouds.name visibility visibility.value precipitation precipitation.value precipitati'),\n",
              " Document(page_content='it wind.speed.name wind.direction wind.direction.value wind.direction.code wind.direction.name clouds clouds.value clouds.name visibility visibility.value precipitation precipitation.value precipitation.mode weather weather.number weather.value weather.icon lastupdate lastupdate.value We provide a broad variety of products such as One Call API 3.0,  Solar Irradiance & Energy Prediction service,  Road Risk API,  Air Pollution API and solutions for advanced weather parameters like solar irradiance data, UVI, dew point, government weather alerts, etc. Please review our product list page and find more info in the product documentation and pricing pages. List of weather condition codes (/weather-conditions) with icons (range of thunderstorm, drizzle, rain, snow, clouds, atmosphere etc.) Please do not confuse min/max parameters in our weather APIs. Example of current weather API response  \"main\" :{ \"temp\" : 306.15 , //current temperature  \"pressure\" : 1013 , \"humidity\" : 44 , \"temp_min\" : 30'),\n",
              " Document(page_content='do not confuse min/max parameters in our weather APIs. Example of current weather API response  \"main\" :{ \"temp\" : 306.15 , //current temperature  \"pressure\" : 1013 , \"humidity\" : 44 , \"temp_min\" : 306.15 , //min current temperature in the city  \"temp_max\" : 306.15  //max current temperature in the city } Example of daily forecast weather API response  \"dt\" : 1406080800 , \"temp\" :{ \"day\" : 297.77 , //daily averaged temperature  \"min\" : 293.52 , //daily min temperature  \"max\" : 297.77 , //daily max temperature  \"night\" : 293.52 , //night temperature  \"eve\" : 297.77 , //evening temperature  \"morn\" : 297.77 }, //morning temperature  We provide number of bulk files with current weather and forecasts. The service allows you to regularly download current weather and forecast data in JSON format. There is no need to call an API to do this. More information is on the Bulk page (/bulk) . Examples of bulk files http://bulk.openweathermap.org/sample/ (http://bulk.openweathermap.org/sample/) Reque'),\n",
              " Document(page_content='There is no need to call an API to do this. More information is on the Bulk page (/bulk) . Examples of bulk files http://bulk.openweathermap.org/sample/ (http://bulk.openweathermap.org/sample/) Requesting API calls by geographical coordinates is the most accurate way to specify any location. If you need to convert city names and zip-codes to geo coordinates and the other way around automatically, please use our Geocoding API . Please use Geocoder API if you need automatic convert city names and zip-codes to geo coordinates and the other way around. Please note that API requests by city name (#name) , zip-codes (#zip) and city id (#cityid) have been deprecated. Although they are still available for use, bug fixing and updates are no longer available for this functionality. You can call by city name or city name, state code and country code. Please note that searching by states available only for the USA locations. API call https://api.openweathermap.org/data/2.5/weather?q= {city name}'),\n",
              " Document(page_content='city name or city name, state code and country code. Please note that searching by states available only for the USA locations. API call https://api.openweathermap.org/data/2.5/weather?q= {city name} &appid= {API key} https://api.openweathermap.org/data/2.5/weather?q= {city name} , {country code} &appid= {API key} https://api.openweathermap.org/data/2.5/weather?q= {city name} , {state code} , {country code} &appid= {API key} q required You can specify the parameter not only in English. In this case, the API response should be returned in the same language as the language of requested location name if the location is in our predefined list of more than 200,000 locations. appid required mode optional xml html mode units optional standard metric imperial units standard lang optional Examples of API calls: https://api.openweathermap.org/data/2.5/weather?q=London&appid= {API key} (https://home.openweathermap.org/api_keys)  { \"coord\" : { \"lon\" : -0.13 , \"lat\" : 51.51 }, \"weather\" : [ { \"id\"'),\n",
              " Document(page_content='of API calls: https://api.openweathermap.org/data/2.5/weather?q=London&appid= {API key} (https://home.openweathermap.org/api_keys)  { \"coord\" : { \"lon\" : -0.13 , \"lat\" : 51.51 }, \"weather\" : [ { \"id\" : 300 , \"main\" : \"Drizzle\" , \"description\" : \"light intensity drizzle\" , \"icon\" : \"09d\" } ], \"base\" : \"stations\" , \"main\" : { \"temp\" : 280.32 , \"pressure\" : 1012 , \"humidity\" : 81 , \"temp_min\" : 279.15 , \"temp_max\" : 281.15 }, \"visibility\" : 10000 , \"wind\" : { \"speed\" : 4.1 , \"deg\" : 80 }, \"clouds\" : { \"all\" : 90 }, \"dt\" : 1485789600 , \"sys\" : { \"type\" : 1 , \"id\" : 5091 , \"message\" : 0.0103 , \"country\" : \"GB\" , \"sunrise\" : 1485762037 , \"sunset\" : 1485794875 }, \"id\" : 2643743 , \"name\" : \"London\" , \"cod\" : 200 } https://api.openweathermap.org/data/2.5/weather?q=London,uk&appid= {API key} (https://home.openweathermap.org/api_keys)  { \"coord\" : { \"lon\" : -0.13 , \"lat\" : 51.51 }, \"weather\" : [ { \"id\" : 300 , \"main\" : \"Drizzle\" , \"description\" : \"light intensity drizzle\" , \"icon\" : \"09d\" } ], \"b'),\n",
              " Document(page_content='//home.openweathermap.org/api_keys)  { \"coord\" : { \"lon\" : -0.13 , \"lat\" : 51.51 }, \"weather\" : [ { \"id\" : 300 , \"main\" : \"Drizzle\" , \"description\" : \"light intensity drizzle\" , \"icon\" : \"09d\" } ], \"base\" : \"stations\" , \"main\" : { \"temp\" : 280.32 , \"pressure\" : 1012 , \"humidity\" : 81 , \"temp_min\" : 279.15 , \"temp_max\" : 281.15 }, \"visibility\" : 10000 , \"wind\" : { \"speed\" : 4.1 , \"deg\" : 80 }, \"clouds\" : { \"all\" : 90 }, \"dt\" : 1485789600 , \"sys\" : { \"type\" : 1 , \"id\" : 5091 , \"message\" : 0.0103 , \"country\" : \"GB\" , \"sunrise\" : 1485762037 , \"sunset\" : 1485794875 }, \"id\" : 2643743 , \"name\" : \"London\" , \"cod\" : 200 } You can make an API call by city ID. List of city ID \\'city.list.json.gz\\' can be downloaded here (http://bulk.openweathermap.org/sample/) . We recommend to call API by city ID to get unambiguous result for your city. API call https://api.openweathermap.org/data/2.5/weather?id= {city id} &appid= {API key} id required appid required mode optional xml html mode units optional stan'),\n",
              " Document(page_content='et unambiguous result for your city. API call https://api.openweathermap.org/data/2.5/weather?id= {city id} &appid= {API key} id required appid required mode optional xml html mode units optional standard metric imperial units standard lang optional Examples of API calls https://api.openweathermap.org/data/2.5/weather?id=2172797&appid= {API key} (https://home.openweathermap.org/api_keys)  { \"coord\" : { \"lon\" : 145.77 , \"lat\" : -16.92 }, \"weather\" : [ { \"id\" : 802 , \"main\" : \"Clouds\" , \"description\" : \"scattered clouds\" , \"icon\" : \"03n\" } ], \"base\" : \"stations\" , \"main\" : { \"temp\" : 300.15 , \"pressure\" : 1007 , \"humidity\" : 74 , \"temp_min\" : 300.15 , \"temp_max\" : 300.15 }, \"visibility\" : 10000 , \"wind\" : { \"speed\" : 3.6 , \"deg\" : 160 }, \"clouds\" : { \"all\" : 40 }, \"dt\" : 1485790200 , \"sys\" : { \"type\" : 1 , \"id\" : 8166 , \"message\" : 0.2064 , \"country\" : \"AU\" , \"sunrise\" : 1485720272 , \"sunset\" : 1485766550 }, \"id\" : 2172797 , \"name\" : \"Cairns\" , \"cod\" : 200 } Please note if country is not'),\n",
              " Document(page_content='{ \"type\" : 1 , \"id\" : 8166 , \"message\" : 0.2064 , \"country\" : \"AU\" , \"sunrise\" : 1485720272 , \"sunset\" : 1485766550 }, \"id\" : 2172797 , \"name\" : \"Cairns\" , \"cod\" : 200 } Please note if country is not specified then the search works for USA as a default. API call https://api.openweathermap.org/data/2.5/weather?zip= {zip code} , {country code} &appid= {API key}  zip required appid required mode optional xml html mode units optional standard metric imperial units standard lang optional Examples of API calls https://api.openweathermap.org/data/2.5/weather?zip=94040,us&appid= {API key} (https://home.openweathermap.org/api_keys)  { \"coord\" : { \"lon\" : -122.08 , \"lat\" : 37.39 }, \"weather\" : [ { \"id\" : 800 , \"main\" : \"Clear\" , \"description\" : \"clear sky\" , \"icon\" : \"01d\" } ], \"base\" : \"stations\" , \"main\" : { \"temp\" : 282.55 , \"feels_like\" : 281.86 , \"temp_min\" : 280.37 , \"temp_max\" : 284.26 , \"pressure\" : 1023 , \"humidity\" : 100 }, \"visibility\" : 10000 , \"wind\" : { \"speed\" : 1.5 , \"deg\" : 350'),\n",
              " Document(page_content=', \"main\" : { \"temp\" : 282.55 , \"feels_like\" : 281.86 , \"temp_min\" : 280.37 , \"temp_max\" : 284.26 , \"pressure\" : 1023 , \"humidity\" : 100 }, \"visibility\" : 10000 , \"wind\" : { \"speed\" : 1.5 , \"deg\" : 350 }, \"clouds\" : { \"all\" : 1 }, \"dt\" : 1560350645 , \"sys\" : { \"type\" : 1 , \"id\" : 5122 , \"message\" : 0.0139 , \"country\" : \"US\" , \"sunrise\" : 1560343627 , \"sunset\" : 1560396563 }, \"timezone\" : -25200 , \"id\" : 420006353 , \"name\" : \"Mountain View\" , \"cod\" : 200 } Response format. JSON format is used by default. To get data in XML format just set up mode = xml. mode optional xml html mode Example of API calls JSON https://api.openweathermap.org/data/2.5/weather?q=London&appid= {API key} (https://home.openweathermap.org/api_keys)  { \"coord\" :{ \"lon\" : -0.13 , \"lat\" : 51.51 }, \"weather\" :[ { \"id\" : 300 , \"main\" : \"Drizzle\" , \"description\" : \"light intensity drizzle\" , \"icon\" : \"09d\" } ], \"base\" : \"stations\" , \"main\" :{ \"temp\" : 280.32 , \"pressure\" : 1012 , \"humidity\" : 81 , \"temp_min\" : 279.15 , \"'),\n",
              " Document(page_content='0 , \"main\" : \"Drizzle\" , \"description\" : \"light intensity drizzle\" , \"icon\" : \"09d\" } ], \"base\" : \"stations\" , \"main\" :{ \"temp\" : 280.32 , \"pressure\" : 1012 , \"humidity\" : 81 , \"temp_min\" : 279.15 , \"temp_max\" : 281.15 }, \"visibility\" : 10000 , \"wind\" :{ \"speed\" : 4.1 , \"deg\" : 80 }, \"clouds\" :{ \"all\" : 90 }, \"dt\" : 1485789600 , \"sys\" :{ \"type\" : 1 , \"id\" : 5091 , \"message\" : 0.0103 , \"country\" : \"GB\" , \"sunrise\" : 1485762037 , \"sunset\" : 1485794875 }, \"id\" : 2643743 , \"name\" : \"London\" , \"cod\" : 200 } XML https://api.openweathermap.org/data/2.5/weather?q=London&mode=xml  < weatherdata >  < location >  < name > London </ name >  < type />  < country > GB </ country >  < timezone />  < location  altitude = \"0\"  latitude = \"51.5085\"  longitude = \"-0.1258\"  geobase = \"geonames\"  geobaseid = \"2643743\" />  </ location >  < credit />  < meta >  < lastupdate />  < calctime > 0.0117 </ calctime >  < nextupdate />  </ meta >  < sun  rise = \"2017-01-30T07:40:34\"  set = \"2017-01-30T16:47:56\" />'),\n",
              " Document(page_content='2643743\" />  </ location >  < credit />  < meta >  < lastupdate />  < calctime > 0.0117 </ calctime >  < nextupdate />  </ meta >  < sun  rise = \"2017-01-30T07:40:34\"  set = \"2017-01-30T16:47:56\" />  < forecast >  < time  day = \"2017-01-30\" >  < symbol  number = \"500\"  name = \"light rain\"  var = \"10d\" />  < precipitation  value = \"1.64\"  type = \"rain\" />  < windDirection  deg = \"85\"  code = \"E\"  name = \"East\" />  < windSpeed  mps = \"1.97\"  name = \"Light breeze\" />  < temperature  day = \"7\"  min = \"4.34\"  max = \"7\"  night = \"4.91\"  eve = \"5.05\"  morn = \"7\" />  < pressure  unit = \"hPa\"  value = \"1016.99\" />  < humidity  value = \"100\"  unit = \"%\" />  < clouds  value = \"few clouds\"  all = \"12\"  unit = \"%\" />  </ time >  < time  day = \"2017-01-31\" >  < symbol  number = \"501\"  name = \"moderate rain\"  var = \"10d\" />  < precipitation  value = \"9.42\"  type = \"rain\" />  < windDirection  deg = \"140\"  code = \"SE\"  name = \"SouthEast\" />  < windSpeed  mps = \"3.37\"  name = \"\" />  < temperature  day ='),\n",
              " Document(page_content='ain\"  var = \"10d\" />  < precipitation  value = \"9.42\"  type = \"rain\" />  < windDirection  deg = \"140\"  code = \"SE\"  name = \"SouthEast\" />  < windSpeed  mps = \"3.37\"  name = \"\" />  < temperature  day = \"9.66\"  min = \"6.16\"  max = \"11.51\"  night = \"10.63\"  eve = \"10.85\"  morn = \"6.16\" />  < pressure  unit = \"hPa\"  value = \"1018.15\" />  < humidity  value = \"100\"  unit = \"%\" />  < clouds  value = \"overcast clouds\"  all = \"92\"  unit = \"%\" />  </ time >  < time  day = \"2017-02-01\" >  < symbol  number = \"501\"  name = \"moderate rain\"  var = \"10d\" />  < precipitation  value = \"9.11\"  type = \"rain\" />  < windDirection  deg = \"197\"  code = \"SSW\"  name = \"South-southwest\" />  < windSpeed  mps = \"5.01\"  name = \"Gentle Breeze\" />  < temperature  day = \"9.81\"  min = \"9.64\"  max = \"10.23\"  night = \"10.08\"  eve = \"9.81\"  morn = \"10.03\" />  < pressure  unit = \"hPa\"  value = \"1011.7\" />  < humidity  value = \"99\"  unit = \"%\" />  < clouds  value = \"scattered clouds\"  all = \"44\"  unit = \"%\" />  </ time >  <'),\n",
              " Document(page_content='eve = \"9.81\"  morn = \"10.03\" />  < pressure  unit = \"hPa\"  value = \"1011.7\" />  < humidity  value = \"99\"  unit = \"%\" />  < clouds  value = \"scattered clouds\"  all = \"44\"  unit = \"%\" />  </ time >  < time  day = \"2017-02-02\" >  < symbol  number = \"501\"  name = \"moderate rain\"  var = \"10d\" />  < precipitation  value = \"3.98\"  type = \"rain\" />  < windDirection  deg = \"184\"  code = \"S\"  name = \"South\" />  < windSpeed  mps = \"8.42\"  name = \"Fresh Breeze\" />  < temperature  day = \"11.44\"  min = \"8.86\"  max = \"11.53\"  night = \"8.86\"  eve = \"10.99\"  morn = \"10.05\" />  < pressure  unit = \"hPa\"  value = \"999.34\" />  < humidity  value = \"96\"  unit = \"%\" />  < clouds  value = \"overcast clouds\"  all = \"92\"  unit = \"%\" />  </ time >  < time  day = \"2017-02-03\" >  < symbol  number = \"500\"  name = \"light rain\"  var = \"10d\" />  < precipitation  value = \"1.65\"  type = \"rain\" />  < windDirection  deg = \"213\"  code = \"SSW\"  name = \"South-southwest\" />  < windSpeed  mps = \"8.51\"  name = \"Fresh Breeze\" />'),\n",
              " Document(page_content='t rain\"  var = \"10d\" />  < precipitation  value = \"1.65\"  type = \"rain\" />  < windDirection  deg = \"213\"  code = \"SSW\"  name = \"South-southwest\" />  < windSpeed  mps = \"8.51\"  name = \"Fresh Breeze\" />  < temperature  day = \"10.66\"  min = \"8.63\"  max = \"10.66\"  night = \"8.63\"  eve = \"9.14\"  morn = \"10.18\" />  < pressure  unit = \"hPa\"  value = \"1010.98\" />  < humidity  value = \"0\"  unit = \"%\" />  < clouds  value = \"scattered clouds\"  all = \"48\"  unit = \"%\" />  </ time >  < time  day = \"2017-02-04\" >  < symbol  number = \"501\"  name = \"moderate rain\"  var = \"10d\" />  < precipitation  value = \"7.25\"  type = \"rain\" />  < windDirection  deg = \"172\"  code = \"S\"  name = \"South\" />  < windSpeed  mps = \"10.39\"  name = \"Fresh Breeze\" />  < temperature  day = \"8.68\"  min = \"7.07\"  max = \"10.4\"  night = \"8.48\"  eve = \"10.4\"  morn = \"7.07\" />  < pressure  unit = \"hPa\"  value = \"1001.13\" />  < humidity  value = \"0\"  unit = \"%\" />  < clouds  value = \"overcast clouds\"  all = \"96\"  unit = \"%\" />  </ time'),\n",
              " Document(page_content='\"8.48\"  eve = \"10.4\"  morn = \"7.07\" />  < pressure  unit = \"hPa\"  value = \"1001.13\" />  < humidity  value = \"0\"  unit = \"%\" />  < clouds  value = \"overcast clouds\"  all = \"96\"  unit = \"%\" />  </ time >  < time  day = \"2017-02-05\" >  < symbol  number = \"501\"  name = \"moderate rain\"  var = \"10d\" />  < precipitation  value = \"4.24\"  type = \"rain\" />  < windDirection  deg = \"274\"  code = \"W\"  name = \"West\" />  < windSpeed  mps = \"6.21\"  name = \"Moderate breeze\" />  < temperature  day = \"8.5\"  min = \"4.86\"  max = \"8.5\"  night = \"4.86\"  eve = \"6.25\"  morn = \"8.26\" />  < pressure  unit = \"hPa\"  value = \"995.24\" />  < humidity  value = \"0\"  unit = \"%\" />  < clouds  value = \"broken clouds\"  all = \"64\"  unit = \"%\" />  </ time >  </ forecast >  </ weatherd  standard , metric , and imperial units are available. List of all API parameters with available units (/weather-data) . units optional standard metric imperial units standard Temperature is available in Fahrenheit, Celsius and Kelvin units. L'),\n",
              " Document(page_content='available. List of all API parameters with available units (/weather-data) . units optional standard metric imperial units standard Temperature is available in Fahrenheit, Celsius and Kelvin units. List of all API parameters with units openweathermap.org/weather-data (http://openweathermap.org/weather-data) Examples of API calls: Standard https://api.openweathermap.org/data/2.5/weather?lat=57&lon=-2.15&appid= {API key} (https://home.openweathermap.org/api_keys)  { \"coord\" : { \"lon\" : -2.15 , \"lat\" : 57 }, \"weather\" : [ { \"id\" : 804 , \"main\" : \"Clouds\" , \"description\" : \"overcast clouds\" , \"icon\" : \"04d\" } ], \"base\" : \"stations\" , \"main\" : { \"temp\" : 281.63 , \"feels_like\" : 278.05 , \"temp_min\" : 281.33 , \"temp_max\" : 282.41 , \"pressure\" : 1016 , \"humidity\" : 79 , \"sea_level\" : 1016 , \"grnd_level\" : 1016 }, \"visibility\" : 10000 , \"wind\" : { \"speed\" : 7.3 , \"deg\" : 189 , \"gust\" : 13.48 }, \"clouds\" : { \"all\" : 100 }, \"dt\" : 1647347424 , \"sys\" : { \"type\" : 2 , \"id\" : 2031790 , \"country\" :'),\n",
              " Document(page_content='_level\" : 1016 }, \"visibility\" : 10000 , \"wind\" : { \"speed\" : 7.3 , \"deg\" : 189 , \"gust\" : 13.48 }, \"clouds\" : { \"all\" : 100 }, \"dt\" : 1647347424 , \"sys\" : { \"type\" : 2 , \"id\" : 2031790 , \"country\" : \"GB\" , \"sunrise\" : 1647325488 , \"sunset\" : 1647367827 }, \"timezone\" : 0 , \"id\" : 2641549 , \"name\" : \"Newtonhill\" , \"cod\" : 200 } metric https://api.openweathermap.org/data/2.5/weather?lat=57&lon=-2.15&appid= {API key} (https://home.openweathermap.org/api_keys) &units=metric { \"coord\" : { \"lon\" : -2.15 , \"lat\" : 57 }, \"weather\" : [ { \"id\" : 804 , \"main\" : \"Clouds\" , \"description\" : \"overcast clouds\" , \"icon\" : \"04d\" } ], \"base\" : \"stations\" , \"main\" : { \"temp\" : 8.48 , \"feels_like\" : 4.9 , \"temp_min\" : 8.18 , \"temp_max\" : 9.26 , \"pressure\" : 1016 , \"humidity\" : 79 , \"sea_level\" : 1016 , \"grnd_level\" : 1016 }, \"visibility\" : 10000 , \"wind\" : { \"speed\" : 7.3 , \"deg\" : 189 , \"gust\" : 13.48 }, \"clouds\" : { \"all\" : 100 }, \"dt\" : 1647347424 , \"sys\" : { \"type\" : 2 , \"id\" : 2031790 , \"country\" : \"G'),\n",
              " Document(page_content='evel\" : 1016 }, \"visibility\" : 10000 , \"wind\" : { \"speed\" : 7.3 , \"deg\" : 189 , \"gust\" : 13.48 }, \"clouds\" : { \"all\" : 100 }, \"dt\" : 1647347424 , \"sys\" : { \"type\" : 2 , \"id\" : 2031790 , \"country\" : \"GB\" , \"sunrise\" : 1647325488 , \"sunset\" : 1647367827 }, \"timezone\" : 0 , \"id\" : 2641549 , \"name\" : \"Newtonhill\" , \"cod\" : 200 } imperial https://api.openweathermap.org/data/2.5/weather?lat=57&lon=-2.15&appid= {API key} (https://home.openweathermap.org/api_keys) &units=imperial { \"coord\" : { \"lon\" : -2.15 , \"lat\" : 57 }, \"weather\" : [ { \"id\" : 804 , \"main\" : \"Clouds\" , \"description\" : \"overcast clouds\" , \"icon\" : \"04d\" } ], \"base\" : \"stations\" , \"main\" : { \"temp\" : 47.26 , \"feels_like\" : 40.82 , \"temp_min\" : 46.72 , \"temp_max\" : 48.67 , \"pressure\" : 1016 , \"humidity\" : 79 , \"sea_level\" : 1016 , \"grnd_level\" : 1016 }, \"visibility\" : 10000 , \"wind\" : { \"speed\" : 16.33 , \"deg\" : 189 , \"gust\" : 30.15 }, \"clouds\" : { \"all\" : 100 }, \"dt\" : 1647347504 , \"sys\" : { \"type\" : 2 , \"id\" : 2031790 , \"coun'),\n",
              " Document(page_content='\"grnd_level\" : 1016 }, \"visibility\" : 10000 , \"wind\" : { \"speed\" : 16.33 , \"deg\" : 189 , \"gust\" : 30.15 }, \"clouds\" : { \"all\" : 100 }, \"dt\" : 1647347504 , \"sys\" : { \"type\" : 2 , \"id\" : 2031790 , \"country\" : \"GB\" , \"sunrise\" : 1647325488 , \"sunset\" : 1647367827 }, \"timezone\" : 0 , \"id\" : 2641549 , \"name\" : \"Newtonhill\" , \"cod\" : 200 } You can use the lang parameter to get the output in your language. Translation is applied for the city name and description fields. API call https://api.openweathermap.org/data/2.5/weather?lat= {lat} &lon= {lon} &appid= {API key} &lang= {lang}  lang optional Examples of API calls https://api.openweathermap.org/data/2.5/weather?id=524901&lang=fr&appid= {API key} (https://home.openweathermap.org/api_keys)  { \"coord\" : { \"lon\" : 37.62 , \"lat\" : 55.75 }, \"weather\" : [ { \"id\" : 501 , \"main\" : \"Rain\" , \"description\" : \"pluie modérée\" , \"icon\" : \"10d\" } ], \"base\" : \"stations\" , \"main\" : { \"temp\" : 295.48 , \"feels_like\" : 295.41 , \"temp_min\" : 295.15 , \"temp_max\"'),\n",
              " Document(page_content=': [ { \"id\" : 501 , \"main\" : \"Rain\" , \"description\" : \"pluie modérée\" , \"icon\" : \"10d\" } ], \"base\" : \"stations\" , \"main\" : { \"temp\" : 295.48 , \"feels_like\" : 295.41 , \"temp_min\" : 295.15 , \"temp_max\" : 296.15 , \"pressure\" : 1018 , \"humidity\" : 60 }, \"visibility\" : 10000 , \"wind\" : { \"speed\" : 2 , \"deg\" : 260 }, \"rain\" : { \"1h\" : 1.23 }, \"clouds\" : { \"all\" : 100 }, \"dt\" : 1599492273 , \"sys\" : { \"type\" : 1 , \"id\" : 9029 , \"country\" : \"RU\" , \"sunrise\" : 1599446791 , \"sunset\" : 1599494929 }, \"timezone\" : 10800 , \"id\" : 524901 , \"name\" : \"Moscou\" , \"cod\" : 200 } We support the following languages that you can use with the corresponded lang values: af al ar az bg ca cz da de el en eu fa fi fr gl he hi hr hu id it ja kr la lt mk no nl pl pt pt_br ro ru sv, se sk sl sp, es sr th tr ua, uk vi zh_cn zh_tw zu To use JavaScript code you can transfer callback functionName to JSONP callback.  Example of API call https://api.openweathermap.org/data/2.5/weather?q=London,uk&callback=test&appid= {API ke'),\n",
              " Document(page_content='zh_tw zu To use JavaScript code you can transfer callback functionName to JSONP callback.  Example of API call https://api.openweathermap.org/data/2.5/weather?q=London,uk&callback=test&appid= {API key} (https://home.openweathermap.org/api_keys)  test( { \"coord\" :{ \"lon\" : -0.13 , \"lat\" : 51.51 }, \"weather\" :[ { \"id\" : 300 , \"main\" : \"Drizzle\" , \"description\" : \"light intensity drizzle\" , \"icon\" : \"09d\" } ], \"base\" : \"stations\" , \"main\" :{ \"temp\" : 280.32 , \"pressure\" : 1012 , \"humidity\" : 81 , \"temp_min\" : 279.15 , \"temp_max\" : 281.15 }, \"visibility\" : 10000 , \"wind\" :{ \"speed\" : 4.1 , \"deg\" : 80 }, \"clouds\" :{ \"all\" : 90 }, \"dt\" : 1485789600 , \"sys\" :{ \"type\" : 1 , \"id\" : 5091 , \"message\" : 0.0103 , \"country\" : \"GB\" , \"sunrise\" : 1485762037 , \"sunset\" : 1485794875 }, \"id\" : 2643743 , \"name\" : \"London\" , \"cod\" : 200 } ) Product Collections Subscription Company OpenWeather is a team of IT experts and data scientists that has been practising deep weather data science. For each point on'),\n",
              " Document(page_content='me\" : \"London\" , \"cod\" : 200 } ) Product Collections Subscription Company OpenWeather is a team of IT experts and data scientists that has been practising deep weather data science. For each point on the globe, OpenWeather provides historical, current and forecasted weather data via light-speed APIs. Headquarters in London, UK. Technologies Terms & Conditions Download OpenWeather app Supplier of Achilles UVDB community © 2012 — 2024 OpenWeather ® All rights reserved')]"
            ]
          },
          "metadata": {},
          "execution_count": 11
        }
      ]
    },
    {
      "cell_type": "code",
      "source": [
        "len(docs_chunk)"
      ],
      "metadata": {
        "colab": {
          "base_uri": "https://localhost:8080/"
        },
        "id": "Hd5-4QJymltM",
        "outputId": "1d578687-3724-4009-ccfe-dd2dee56434e"
      },
      "id": "Hd5-4QJymltM",
      "execution_count": null,
      "outputs": [
        {
          "output_type": "execute_result",
          "data": {
            "text/plain": [
              "28"
            ]
          },
          "metadata": {},
          "execution_count": 12
        }
      ]
    },
    {
      "cell_type": "markdown",
      "source": [
        "## Vector Store"
      ],
      "metadata": {
        "id": "uHG7bMKbplin"
      },
      "id": "uHG7bMKbplin"
    },
    {
      "cell_type": "code",
      "source": [
        "from langchain_chroma import Chroma"
      ],
      "metadata": {
        "id": "_zvlfcsDpn67"
      },
      "id": "_zvlfcsDpn67",
      "execution_count": null,
      "outputs": []
    },
    {
      "cell_type": "code",
      "source": [
        "def reset_chroma_vector_store(vector_store):\n",
        "# Get all document ids in the vector store\n",
        "  doc_ids = vector_store._collection.get()\n",
        "  # Delete each document by id\n",
        "  for doc_id in doc_ids:\n",
        "    vector_store._collection.delete(doc_id)"
      ],
      "metadata": {
        "id": "F04YVci8x9YG"
      },
      "id": "F04YVci8x9YG",
      "execution_count": null,
      "outputs": []
    },
    {
      "cell_type": "code",
      "source": [
        "db = Chroma.from_documents(\n",
        "    docs_chunk,\n",
        "    OpenAIEmbeddings(openai_api_key=OPENAI_KEY)\n",
        ")"
      ],
      "metadata": {
        "collapsed": true,
        "id": "CRNcCPlfrXx0"
      },
      "id": "CRNcCPlfrXx0",
      "execution_count": null,
      "outputs": []
    },
    {
      "cell_type": "markdown",
      "source": [
        "## Retriever"
      ],
      "metadata": {
        "id": "Rp0cZn7ZsCf9"
      },
      "id": "Rp0cZn7ZsCf9"
    },
    {
      "cell_type": "code",
      "source": [
        "#retriever = db.as_retriever(\n",
        "#    search_type=\"similarity_score_threshold\",\n",
        "#    search_kwargs={\"k\": 2, \"score_threshold\": 0.5}\n",
        "#)\n",
        "\n",
        "retriever = db.as_retriever(search_type=\"mmr\", search_kwargs={\"k\": 3})"
      ],
      "metadata": {
        "id": "ayqdtGwtrw7O"
      },
      "id": "ayqdtGwtrw7O",
      "execution_count": null,
      "outputs": []
    },
    {
      "cell_type": "code",
      "source": [
        "docs_answer = retriever.invoke(\"How to convert city name to geo coordinates? And what are the possible response format for the API?\")"
      ],
      "metadata": {
        "id": "2a5MYURn212h"
      },
      "id": "2a5MYURn212h",
      "execution_count": null,
      "outputs": []
    },
    {
      "cell_type": "code",
      "source": [
        "len(docs_answer)"
      ],
      "metadata": {
        "id": "c5OIt-24tHyG",
        "outputId": "8be9de5a-2602-4eca-b76c-66bad7065c33",
        "colab": {
          "base_uri": "https://localhost:8080/"
        }
      },
      "id": "c5OIt-24tHyG",
      "execution_count": null,
      "outputs": [
        {
          "output_type": "execute_result",
          "data": {
            "text/plain": [
              "3"
            ]
          },
          "metadata": {},
          "execution_count": 18
        }
      ]
    },
    {
      "cell_type": "code",
      "source": [
        "docs_answer[0].page_content"
      ],
      "metadata": {
        "id": "IAJg-dux2_Fa",
        "outputId": "12527aad-e8a8-4650-e46b-31dd85e6613b",
        "colab": {
          "base_uri": "https://localhost:8080/",
          "height": 122
        }
      },
      "id": "IAJg-dux2_Fa",
      "execution_count": null,
      "outputs": [
        {
          "output_type": "execute_result",
          "data": {
            "text/plain": [
              "'There is no need to call an API to do this. More information is on the Bulk page (/bulk) . Examples of bulk files http://bulk.openweathermap.org/sample/ (http://bulk.openweathermap.org/sample/) Requesting API calls by geographical coordinates is the most accurate way to specify any location. If you need to convert city names and zip-codes to geo coordinates and the other way around automatically, please use our Geocoding API . Please use Geocoder API if you need automatic convert city names and zip-codes to geo coordinates and the other way around. Please note that API requests by city name (#name) , zip-codes (#zip) and city id (#cityid) have been deprecated. Although they are still available for use, bug fixing and updates are no longer available for this functionality. You can call by city name or city name, state code and country code. Please note that searching by states available only for the USA locations. API call https://api.openweathermap.org/data/2.5/weather?q= {city name}'"
            ],
            "application/vnd.google.colaboratory.intrinsic+json": {
              "type": "string"
            }
          },
          "metadata": {},
          "execution_count": 19
        }
      ]
    },
    {
      "cell_type": "markdown",
      "source": [
        "## Connexion à ChatGPT"
      ],
      "metadata": {
        "id": "sJhFYsoFL0qX"
      },
      "id": "sJhFYsoFL0qX"
    },
    {
      "cell_type": "code",
      "source": [
        "from langchain_openai import OpenAI\n",
        "\n",
        "llm = OpenAI(model_name=\"gpt-4-turbo\", openai_api_key=OPENAI_KEY)"
      ],
      "metadata": {
        "id": "Bs7xkJQuL3wz"
      },
      "id": "Bs7xkJQuL3wz",
      "execution_count": null,
      "outputs": []
    },
    {
      "cell_type": "code",
      "source": [
        "!pip install openai==0.28"
      ],
      "metadata": {
        "id": "5OmrCN8LPh4l",
        "outputId": "40be3fdd-32b3-4f42-d6e2-94eaf8b5bddb",
        "colab": {
          "base_uri": "https://localhost:8080/",
          "height": 531
        }
      },
      "id": "5OmrCN8LPh4l",
      "execution_count": null,
      "outputs": [
        {
          "output_type": "stream",
          "name": "stdout",
          "text": [
            "Collecting openai==0.28\n",
            "  Downloading openai-0.28.0-py3-none-any.whl (76 kB)\n",
            "\u001b[?25l     \u001b[90m━━━━━━━━━━━━━━━━━━━━━━━━━━━━━━━━━━━━━━━━\u001b[0m \u001b[32m0.0/76.5 kB\u001b[0m \u001b[31m?\u001b[0m eta \u001b[36m-:--:--\u001b[0m\r\u001b[2K     \u001b[90m━━━━━━━━━━━━━━━━━━━━━━━━━━━━━━━━━━━━━━━━\u001b[0m \u001b[32m76.5/76.5 kB\u001b[0m \u001b[31m2.0 MB/s\u001b[0m eta \u001b[36m0:00:00\u001b[0m\n",
            "\u001b[?25hRequirement already satisfied: requests>=2.20 in /usr/local/lib/python3.10/dist-packages (from openai==0.28) (2.31.0)\n",
            "Requirement already satisfied: tqdm in /usr/local/lib/python3.10/dist-packages (from openai==0.28) (4.66.4)\n",
            "Requirement already satisfied: aiohttp in /usr/local/lib/python3.10/dist-packages (from openai==0.28) (3.9.5)\n",
            "Requirement already satisfied: charset-normalizer<4,>=2 in /usr/local/lib/python3.10/dist-packages (from requests>=2.20->openai==0.28) (3.3.2)\n",
            "Requirement already satisfied: idna<4,>=2.5 in /usr/local/lib/python3.10/dist-packages (from requests>=2.20->openai==0.28) (3.7)\n",
            "Requirement already satisfied: urllib3<3,>=1.21.1 in /usr/local/lib/python3.10/dist-packages (from requests>=2.20->openai==0.28) (2.0.7)\n",
            "Requirement already satisfied: certifi>=2017.4.17 in /usr/local/lib/python3.10/dist-packages (from requests>=2.20->openai==0.28) (2024.2.2)\n",
            "Requirement already satisfied: aiosignal>=1.1.2 in /usr/local/lib/python3.10/dist-packages (from aiohttp->openai==0.28) (1.3.1)\n",
            "Requirement already satisfied: attrs>=17.3.0 in /usr/local/lib/python3.10/dist-packages (from aiohttp->openai==0.28) (23.2.0)\n",
            "Requirement already satisfied: frozenlist>=1.1.1 in /usr/local/lib/python3.10/dist-packages (from aiohttp->openai==0.28) (1.4.1)\n",
            "Requirement already satisfied: multidict<7.0,>=4.5 in /usr/local/lib/python3.10/dist-packages (from aiohttp->openai==0.28) (6.0.5)\n",
            "Requirement already satisfied: yarl<2.0,>=1.0 in /usr/local/lib/python3.10/dist-packages (from aiohttp->openai==0.28) (1.9.4)\n",
            "Requirement already satisfied: async-timeout<5.0,>=4.0 in /usr/local/lib/python3.10/dist-packages (from aiohttp->openai==0.28) (4.0.3)\n",
            "Installing collected packages: openai\n",
            "  Attempting uninstall: openai\n",
            "    Found existing installation: openai 1.30.1\n",
            "    Uninstalling openai-1.30.1:\n",
            "      Successfully uninstalled openai-1.30.1\n",
            "\u001b[31mERROR: pip's dependency resolver does not currently take into account all the packages that are installed. This behaviour is the source of the following dependency conflicts.\n",
            "langchain-openai 0.1.7 requires openai<2.0.0,>=1.24.0, but you have openai 0.28.0 which is incompatible.\u001b[0m\u001b[31m\n",
            "\u001b[0mSuccessfully installed openai-0.28.0\n"
          ]
        },
        {
          "output_type": "display_data",
          "data": {
            "application/vnd.colab-display-data+json": {
              "pip_warning": {
                "packages": [
                  "openai"
                ]
              },
              "id": "e8aa8568a82443dd859b20dfac5c4229"
            }
          },
          "metadata": {}
        }
      ]
    },
    {
      "cell_type": "code",
      "source": [
        "from langchain_openai import OpenAI\n",
        "from langchain.prompts.prompt import PromptTemplate\n",
        "from langchain.chains import LLMChain\n",
        "from langchain_core.prompts import PromptTemplate\n",
        "\n",
        "\n",
        "prompt_template = PromptTemplate.from_template(\n",
        "    \"Answer to this query: {query}. Based on this context: {context}. Ignore irrelavant informations\"\n",
        ")\n",
        "\n",
        "llm = OpenAI(api_key=OPENAI_KEY)# model_name=\"gpt-4o\", api_key=OPENAI_KEY)\n",
        "\n",
        "def end2end_call(query):\n",
        "    docs_query = retriever.invoke(query)\n",
        "    context = \"\"\n",
        "    for doc in docs_query:\n",
        "        context += doc.page_content + \"\\n\\n\"\n",
        "    prompt = prompt_template.format(query=query, context=context)\n",
        "    #chain = LLMChain(llm=llm, prompt=prompt)\n",
        "    res = llm.invoke(prompt)\n",
        "    return res"
      ],
      "metadata": {
        "id": "Xsk0Py8bR0yW"
      },
      "id": "Xsk0Py8bR0yW",
      "execution_count": null,
      "outputs": []
    },
    {
      "cell_type": "code",
      "source": [
        "res = end2end_call(query=\"How to convert city name to geo coordinates?\")"
      ],
      "metadata": {
        "id": "eZfq85hSRYNt",
        "outputId": "908bff21-819f-486f-cc26-e61684393286",
        "colab": {
          "base_uri": "https://localhost:8080/"
        }
      },
      "id": "eZfq85hSRYNt",
      "execution_count": null,
      "outputs": [
        {
          "output_type": "stream",
          "name": "stdout",
          "text": [
            "Answer to this query: How to convert city name to geo coordinates?. Based on this context: There is no need to call an API to do this. More information is on the Bulk page (/bulk) . Examples of bulk files http://bulk.openweathermap.org/sample/ (http://bulk.openweathermap.org/sample/) Requesting API calls by geographical coordinates is the most accurate way to specify any location. If you need to convert city names and zip-codes to geo coordinates and the other way around automatically, please use our Geocoding API . Please use Geocoder API if you need automatic convert city names and zip-codes to geo coordinates and the other way around. Please note that API requests by city name (#name) , zip-codes (#zip) and city id (#cityid) have been deprecated. Although they are still available for use, bug fixing and updates are no longer available for this functionality. You can call by city name or city name, state code and country code. Please note that searching by states available only for the USA locations. API call https://api.openweathermap.org/data/2.5/weather?q= {city name}\n",
            "\n",
            "cca\" >  < coord  lon = \"10.99\"  lat = \"44.34\" />  < country > IT </ country >  < timezone > 7200 </ timezone >  < sun  rise = \"2022-08-30T04:36:27\"  set = \"2022-08-30T17:57:28\" />  </ city >  < temperature  value = \"298.48\"  min = \"297.56\"  max = \"300.05\"  unit = \"kelvin\" />  < feels_like  value = \"298.74\"  unit = \"kelvin\" />  < humidity  value = \"64\"  unit = \"%\" />  < pressure  value = \"1015\"  unit = \"hPa\" />  < wind >  < speed  value = \"0.62\"  unit = \"m/s\"  name = \"Calm\" />  < gusts  value = \"1.18\" />  < direction  value = \"349\"  code = \"N\"  name = \"North\" />  </ wind >  < clouds  value = \"100\"  name = \"overcast clouds\" />  < visibility  value = \"10000\" />  < precipitation  value = \"3.37\"  mode = \"rain\"  unit = \"1h\" />  < weather  number = \"501\"  value = \"moderate rain\"  icon = \"10d\" />  < lastupdate  value = \"2022-08-30T14:45:57\" />  </ current >  XML format API response fields city city.id City ID. Please note that built-in geocoder functionality has been deprecated. Learn more her\n",
            "\n",
            "zh_tw zu To use JavaScript code you can transfer callback functionName to JSONP callback.  Example of API call https://api.openweathermap.org/data/2.5/weather?q=London,uk&callback=test&appid= {API key} (https://home.openweathermap.org/api_keys)  test( { \"coord\" :{ \"lon\" : -0.13 , \"lat\" : 51.51 }, \"weather\" :[ { \"id\" : 300 , \"main\" : \"Drizzle\" , \"description\" : \"light intensity drizzle\" , \"icon\" : \"09d\" } ], \"base\" : \"stations\" , \"main\" :{ \"temp\" : 280.32 , \"pressure\" : 1012 , \"humidity\" : 81 , \"temp_min\" : 279.15 , \"temp_max\" : 281.15 }, \"visibility\" : 10000 , \"wind\" :{ \"speed\" : 4.1 , \"deg\" : 80 }, \"clouds\" :{ \"all\" : 90 }, \"dt\" : 1485789600 , \"sys\" :{ \"type\" : 1 , \"id\" : 5091 , \"message\" : 0.0103 , \"country\" : \"GB\" , \"sunrise\" : 1485762037 , \"sunset\" : 1485794875 }, \"id\" : 2643743 , \"name\" : \"London\" , \"cod\" : 200 } ) Product Collections Subscription Company OpenWeather is a team of IT experts and data scientists that has been practising deep weather data science. For each point on\n",
            "\n",
            ". Ignore irrelavant informations\n"
          ]
        }
      ]
    },
    {
      "cell_type": "code",
      "source": [
        "res"
      ],
      "metadata": {
        "id": "VAXGTw_cXA2g",
        "outputId": "ed6372fd-afa6-44fb-94af-8d8b7ac019f9",
        "colab": {
          "base_uri": "https://localhost:8080/",
          "height": 122
        }
      },
      "id": "VAXGTw_cXA2g",
      "execution_count": null,
      "outputs": [
        {
          "output_type": "execute_result",
          "data": {
            "text/plain": [
              "'.\\n\\nTo convert a city name to geo coordinates, you can use the Bulk page on the OpenWeather website. However, please note that the API requests by city name, zip-codes, and city id have been deprecated, so it is recommended to use the Geocoding API for automatic conversion of city names and zip-codes to geo coordinates and vice versa. You can also call the API directly with the city name in the API call. For example, the API call for London would be: https://api.openweathermap.org/data/2.5/weather?q=London. You can also use JSONP callback by adding \"&callback=test\" to the end of the API call and defining a callback function in your JavaScript code. The API response will include relevant information such as coordinates, weather conditions, temperature, wind speed, and more. OpenWeather is a team of IT experts and data scientists who specialize in weather data science, so you can trust the accuracy and reliability of the data provided.'"
            ],
            "application/vnd.google.colaboratory.intrinsic+json": {
              "type": "string"
            }
          },
          "metadata": {},
          "execution_count": 60
        }
      ]
    }
  ],
  "metadata": {
    "kernelspec": {
      "display_name": "Python 3 (ipykernel)",
      "language": "python",
      "name": "python3"
    },
    "language_info": {
      "codemirror_mode": {
        "name": "ipython",
        "version": 3
      },
      "file_extension": ".py",
      "mimetype": "text/x-python",
      "name": "python",
      "nbconvert_exporter": "python",
      "pygments_lexer": "ipython3",
      "version": "3.9.1"
    },
    "colab": {
      "provenance": [],
      "include_colab_link": true
    }
  },
  "nbformat": 4,
  "nbformat_minor": 5
}